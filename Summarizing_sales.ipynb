{
 "cells": [
  {
   "cell_type": "code",
   "execution_count": 1,
   "metadata": {},
   "outputs": [],
   "source": [
    "import pandas as pd"
   ]
  },
  {
   "cell_type": "code",
   "execution_count": 2,
   "metadata": {},
   "outputs": [],
   "source": [
    "df1= pd.read_excel(\"Demand Data.xlsx\", sheet_name=\"SalesHistory201609\")"
   ]
  },
  {
   "cell_type": "code",
   "execution_count": 3,
   "metadata": {},
   "outputs": [],
   "source": [
    "df2= pd.read_excel(\"Demand Data.xlsx\", sheet_name=\"SalesHistory201610\")"
   ]
  },
  {
   "cell_type": "code",
   "execution_count": 4,
   "metadata": {},
   "outputs": [],
   "source": [
    "df3= pd.read_excel(\"Demand Data.xlsx\", sheet_name=\"SalesHistory201611\")"
   ]
  },
  {
   "cell_type": "code",
   "execution_count": 5,
   "metadata": {},
   "outputs": [],
   "source": [
    "df4= pd.read_excel(\"Demand Data.xlsx\", sheet_name=\"SalesHistory201612\")"
   ]
  },
  {
   "cell_type": "code",
   "execution_count": 6,
   "metadata": {},
   "outputs": [],
   "source": [
    "df5= pd.read_excel(\"Demand Data.xlsx\", sheet_name=\"SalesHistory201701\")"
   ]
  },
  {
   "cell_type": "code",
   "execution_count": 7,
   "metadata": {},
   "outputs": [],
   "source": [
    "df6= pd.read_excel(\"Demand Data.xlsx\", sheet_name=\"SalesHistory201702\")"
   ]
  },
  {
   "cell_type": "code",
   "execution_count": 8,
   "metadata": {},
   "outputs": [],
   "source": [
    "df7= pd.read_excel(\"Demand Data.xlsx\", sheet_name=\"SalesHistory201703\")"
   ]
  },
  {
   "cell_type": "code",
   "execution_count": 9,
   "metadata": {},
   "outputs": [],
   "source": [
    "df8= pd.read_excel(\"Demand Data.xlsx\", sheet_name=\"SalesHistory201704\")"
   ]
  },
  {
   "cell_type": "code",
   "execution_count": 10,
   "metadata": {},
   "outputs": [],
   "source": [
    "df9= pd.read_excel(\"Demand Data.xlsx\", sheet_name=\"SalesHistory201705\")"
   ]
  },
  {
   "cell_type": "code",
   "execution_count": 11,
   "metadata": {},
   "outputs": [],
   "source": [
    "df10= pd.read_excel(\"Demand Data.xlsx\", sheet_name=\"SalesHistory201706\")"
   ]
  },
  {
   "cell_type": "code",
   "execution_count": 12,
   "metadata": {},
   "outputs": [],
   "source": [
    "df11= pd.read_excel(\"Demand Data.xlsx\", sheet_name=\"SalesHistory201707\")"
   ]
  },
  {
   "cell_type": "code",
   "execution_count": 13,
   "metadata": {},
   "outputs": [],
   "source": [
    "df12= pd.read_excel(\"Demand Data.xlsx\", sheet_name=\"SalesHistory201708\")"
   ]
  },
  {
   "cell_type": "code",
   "execution_count": 19,
   "metadata": {},
   "outputs": [],
   "source": [
    "df_prod_master= pd.read_excel(\"Demand Data.xlsx\", sheet_name=\"ProductMaster\")"
   ]
  },
  {
   "cell_type": "code",
   "execution_count": 20,
   "metadata": {},
   "outputs": [],
   "source": [
    "df_loc_master= pd.read_excel(\"Demand Data.xlsx\", sheet_name=\"LocationMaster\")"
   ]
  },
  {
   "cell_type": "code",
   "execution_count": 21,
   "metadata": {},
   "outputs": [],
   "source": [
    "df_cust_master= pd.read_excel(\"Demand Data.xlsx\", sheet_name=\"CustomerMaster\")"
   ]
  },
  {
   "cell_type": "markdown",
   "metadata": {},
   "source": [
    "### Appending all the sales sheets into one dataframe"
   ]
  },
  {
   "cell_type": "code",
   "execution_count": 14,
   "metadata": {},
   "outputs": [],
   "source": [
    "#creating lists of all sheets\n",
    "sales_df = [df1, df2, df3, df4, df5, df6, df7, df8, df9, df10, df11, df12]"
   ]
  },
  {
   "cell_type": "code",
   "execution_count": 15,
   "metadata": {},
   "outputs": [],
   "source": [
    "#appending all sheets into one DataFrame\n",
    "append_df= pd.concat(sales_df)"
   ]
  },
  {
   "cell_type": "code",
   "execution_count": 22,
   "metadata": {},
   "outputs": [
    {
     "data": {
      "text/plain": [
       "(277010, 13)"
      ]
     },
     "execution_count": 22,
     "metadata": {},
     "output_type": "execute_result"
    }
   ],
   "source": [
    "append_df.shape"
   ]
  },
  {
   "cell_type": "code",
   "execution_count": 24,
   "metadata": {},
   "outputs": [
    {
     "data": {
      "text/html": [
       "<div>\n",
       "<style scoped>\n",
       "    .dataframe tbody tr th:only-of-type {\n",
       "        vertical-align: middle;\n",
       "    }\n",
       "\n",
       "    .dataframe tbody tr th {\n",
       "        vertical-align: top;\n",
       "    }\n",
       "\n",
       "    .dataframe thead th {\n",
       "        text-align: right;\n",
       "    }\n",
       "</style>\n",
       "<table border=\"1\" class=\"dataframe\">\n",
       "  <thead>\n",
       "    <tr style=\"text-align: right;\">\n",
       "      <th></th>\n",
       "      <th>Facility_Code</th>\n",
       "      <th>Customer_Code</th>\n",
       "      <th>Material_Code</th>\n",
       "      <th>Order_No</th>\n",
       "      <th>Order_Date</th>\n",
       "      <th>Delivery_No</th>\n",
       "      <th>Order_Ship_Date</th>\n",
       "      <th>Delivery_Date</th>\n",
       "      <th>Ship_Mode</th>\n",
       "      <th>Billed_Quantity</th>\n",
       "      <th>Sales</th>\n",
       "      <th>Profit</th>\n",
       "      <th>MonthYear</th>\n",
       "    </tr>\n",
       "  </thead>\n",
       "  <tbody>\n",
       "    <tr>\n",
       "      <th>0</th>\n",
       "      <td>CDC02</td>\n",
       "      <td>Cus0001851</td>\n",
       "      <td>PR002681</td>\n",
       "      <td>ORD00000001</td>\n",
       "      <td>2016-09-02</td>\n",
       "      <td>DEL00000001</td>\n",
       "      <td>2016-09-02</td>\n",
       "      <td>2016-10-15</td>\n",
       "      <td>Same Day</td>\n",
       "      <td>40</td>\n",
       "      <td>105565.555452</td>\n",
       "      <td>-24280.077754</td>\n",
       "      <td>201609</td>\n",
       "    </tr>\n",
       "    <tr>\n",
       "      <th>1</th>\n",
       "      <td>CDC02</td>\n",
       "      <td>Cus0001514</td>\n",
       "      <td>PR008406</td>\n",
       "      <td>ORD00000002</td>\n",
       "      <td>2016-08-19</td>\n",
       "      <td>DEL00000002</td>\n",
       "      <td>2016-09-03</td>\n",
       "      <td>2016-09-21</td>\n",
       "      <td>Same Day</td>\n",
       "      <td>28</td>\n",
       "      <td>575706.929017</td>\n",
       "      <td>224525.702317</td>\n",
       "      <td>201609</td>\n",
       "    </tr>\n",
       "    <tr>\n",
       "      <th>2</th>\n",
       "      <td>CDC02</td>\n",
       "      <td>Cus0001181</td>\n",
       "      <td>PR001946</td>\n",
       "      <td>ORD00000003</td>\n",
       "      <td>2016-08-30</td>\n",
       "      <td>DEL00000003</td>\n",
       "      <td>2016-09-06</td>\n",
       "      <td>2016-09-06</td>\n",
       "      <td>Same Day</td>\n",
       "      <td>30</td>\n",
       "      <td>14423.376844</td>\n",
       "      <td>-5336.649432</td>\n",
       "      <td>201609</td>\n",
       "    </tr>\n",
       "    <tr>\n",
       "      <th>3</th>\n",
       "      <td>CDC02</td>\n",
       "      <td>Cus0001004</td>\n",
       "      <td>PR006100</td>\n",
       "      <td>ORD00000004</td>\n",
       "      <td>2016-09-04</td>\n",
       "      <td>DEL00000004</td>\n",
       "      <td>2016-09-06</td>\n",
       "      <td>2016-10-10</td>\n",
       "      <td>Standard Class</td>\n",
       "      <td>1</td>\n",
       "      <td>3980.677328</td>\n",
       "      <td>-1433.043838</td>\n",
       "      <td>201609</td>\n",
       "    </tr>\n",
       "    <tr>\n",
       "      <th>4</th>\n",
       "      <td>CDC02</td>\n",
       "      <td>Cus0000397</td>\n",
       "      <td>PR005161</td>\n",
       "      <td>ORD00000005</td>\n",
       "      <td>2016-08-10</td>\n",
       "      <td>DEL00000005</td>\n",
       "      <td>2016-09-06</td>\n",
       "      <td>2016-10-06</td>\n",
       "      <td>First Class</td>\n",
       "      <td>13</td>\n",
       "      <td>74645.846902</td>\n",
       "      <td>-12689.793973</td>\n",
       "      <td>201609</td>\n",
       "    </tr>\n",
       "  </tbody>\n",
       "</table>\n",
       "</div>"
      ],
      "text/plain": [
       "  Facility_Code Customer_Code Material_Code     Order_No Order_Date  \\\n",
       "0         CDC02    Cus0001851      PR002681  ORD00000001 2016-09-02   \n",
       "1         CDC02    Cus0001514      PR008406  ORD00000002 2016-08-19   \n",
       "2         CDC02    Cus0001181      PR001946  ORD00000003 2016-08-30   \n",
       "3         CDC02    Cus0001004      PR006100  ORD00000004 2016-09-04   \n",
       "4         CDC02    Cus0000397      PR005161  ORD00000005 2016-08-10   \n",
       "\n",
       "   Delivery_No Order_Ship_Date Delivery_Date       Ship_Mode  Billed_Quantity  \\\n",
       "0  DEL00000001      2016-09-02    2016-10-15        Same Day               40   \n",
       "1  DEL00000002      2016-09-03    2016-09-21        Same Day               28   \n",
       "2  DEL00000003      2016-09-06    2016-09-06        Same Day               30   \n",
       "3  DEL00000004      2016-09-06    2016-10-10  Standard Class                1   \n",
       "4  DEL00000005      2016-09-06    2016-10-06     First Class               13   \n",
       "\n",
       "           Sales         Profit  MonthYear  \n",
       "0  105565.555452  -24280.077754     201609  \n",
       "1  575706.929017  224525.702317     201609  \n",
       "2   14423.376844   -5336.649432     201609  \n",
       "3    3980.677328   -1433.043838     201609  \n",
       "4   74645.846902  -12689.793973     201609  "
      ]
     },
     "execution_count": 24,
     "metadata": {},
     "output_type": "execute_result"
    }
   ],
   "source": [
    "append_df.head()"
   ]
  },
  {
   "cell_type": "markdown",
   "metadata": {},
   "source": [
    "## Joining"
   ]
  },
  {
   "cell_type": "code",
   "execution_count": 25,
   "metadata": {},
   "outputs": [],
   "source": [
    "df_pm = pd.merge(append_df, df_prod_master, on='Material_Code', how='inner')"
   ]
  },
  {
   "cell_type": "code",
   "execution_count": 26,
   "metadata": {},
   "outputs": [
    {
     "data": {
      "text/plain": [
       "(277010, 19)"
      ]
     },
     "execution_count": 26,
     "metadata": {},
     "output_type": "execute_result"
    }
   ],
   "source": [
    "df_pm.shape"
   ]
  },
  {
   "cell_type": "code",
   "execution_count": 27,
   "metadata": {},
   "outputs": [],
   "source": [
    "df_pm_lm = pd.merge(df_pm, df_loc_master, on='Facility_Code', how='inner')"
   ]
  },
  {
   "cell_type": "code",
   "execution_count": 28,
   "metadata": {},
   "outputs": [
    {
     "data": {
      "text/plain": [
       "(277010, 22)"
      ]
     },
     "execution_count": 28,
     "metadata": {},
     "output_type": "execute_result"
    }
   ],
   "source": [
    "df_pm_lm.shape"
   ]
  },
  {
   "cell_type": "code",
   "execution_count": 29,
   "metadata": {},
   "outputs": [],
   "source": [
    "df_final = pd.merge(df_pm_lm, df_cust_master, on='Customer_Code', how='inner')"
   ]
  },
  {
   "cell_type": "code",
   "execution_count": 31,
   "metadata": {},
   "outputs": [
    {
     "data": {
      "text/html": [
       "<div>\n",
       "<style scoped>\n",
       "    .dataframe tbody tr th:only-of-type {\n",
       "        vertical-align: middle;\n",
       "    }\n",
       "\n",
       "    .dataframe tbody tr th {\n",
       "        vertical-align: top;\n",
       "    }\n",
       "\n",
       "    .dataframe thead th {\n",
       "        text-align: right;\n",
       "    }\n",
       "</style>\n",
       "<table border=\"1\" class=\"dataframe\">\n",
       "  <thead>\n",
       "    <tr style=\"text-align: right;\">\n",
       "      <th></th>\n",
       "      <th>Billed_Quantity</th>\n",
       "      <th>Sales</th>\n",
       "      <th>Profit</th>\n",
       "      <th>MonthYear</th>\n",
       "      <th>Gross_Weight</th>\n",
       "      <th>Net_Weight</th>\n",
       "      <th>PostalCode</th>\n",
       "    </tr>\n",
       "  </thead>\n",
       "  <tbody>\n",
       "    <tr>\n",
       "      <th>count</th>\n",
       "      <td>277010.000000</td>\n",
       "      <td>2.770100e+05</td>\n",
       "      <td>2.770100e+05</td>\n",
       "      <td>277010.000000</td>\n",
       "      <td>2.770100e+05</td>\n",
       "      <td>277010.000000</td>\n",
       "      <td>277010.000000</td>\n",
       "    </tr>\n",
       "    <tr>\n",
       "      <th>mean</th>\n",
       "      <td>35.930078</td>\n",
       "      <td>1.327553e+04</td>\n",
       "      <td>1.352884e+03</td>\n",
       "      <td>201667.817461</td>\n",
       "      <td>2.417496e+03</td>\n",
       "      <td>1757.576298</td>\n",
       "      <td>459275.648803</td>\n",
       "    </tr>\n",
       "    <tr>\n",
       "      <th>std</th>\n",
       "      <td>71.360021</td>\n",
       "      <td>7.208860e+04</td>\n",
       "      <td>2.692894e+04</td>\n",
       "      <td>45.828990</td>\n",
       "      <td>3.005400e+04</td>\n",
       "      <td>9039.474429</td>\n",
       "      <td>169538.810677</td>\n",
       "    </tr>\n",
       "    <tr>\n",
       "      <th>min</th>\n",
       "      <td>1.000000</td>\n",
       "      <td>-7.692235e+05</td>\n",
       "      <td>-3.463078e+06</td>\n",
       "      <td>201609.000000</td>\n",
       "      <td>0.000000e+00</td>\n",
       "      <td>0.000000</td>\n",
       "      <td>110002.000000</td>\n",
       "    </tr>\n",
       "    <tr>\n",
       "      <th>25%</th>\n",
       "      <td>9.000000</td>\n",
       "      <td>6.226587e+02</td>\n",
       "      <td>-2.492367e+02</td>\n",
       "      <td>201611.000000</td>\n",
       "      <td>1.090000e+00</td>\n",
       "      <td>1.000000</td>\n",
       "      <td>390021.000000</td>\n",
       "    </tr>\n",
       "    <tr>\n",
       "      <th>50%</th>\n",
       "      <td>25.000000</td>\n",
       "      <td>2.032342e+03</td>\n",
       "      <td>5.770376e+01</td>\n",
       "      <td>201702.000000</td>\n",
       "      <td>5.000000e+02</td>\n",
       "      <td>405.000000</td>\n",
       "      <td>442001.000000</td>\n",
       "    </tr>\n",
       "    <tr>\n",
       "      <th>75%</th>\n",
       "      <td>44.000000</td>\n",
       "      <td>7.039263e+03</td>\n",
       "      <td>8.177714e+02</td>\n",
       "      <td>201705.000000</td>\n",
       "      <td>7.080000e+02</td>\n",
       "      <td>535.000000</td>\n",
       "      <td>560100.000000</td>\n",
       "    </tr>\n",
       "    <tr>\n",
       "      <th>max</th>\n",
       "      <td>5113.000000</td>\n",
       "      <td>7.528430e+06</td>\n",
       "      <td>2.829114e+06</td>\n",
       "      <td>201708.000000</td>\n",
       "      <td>2.155500e+06</td>\n",
       "      <td>300000.000000</td>\n",
       "      <td>844101.000000</td>\n",
       "    </tr>\n",
       "  </tbody>\n",
       "</table>\n",
       "</div>"
      ],
      "text/plain": [
       "       Billed_Quantity         Sales        Profit      MonthYear  \\\n",
       "count    277010.000000  2.770100e+05  2.770100e+05  277010.000000   \n",
       "mean         35.930078  1.327553e+04  1.352884e+03  201667.817461   \n",
       "std          71.360021  7.208860e+04  2.692894e+04      45.828990   \n",
       "min           1.000000 -7.692235e+05 -3.463078e+06  201609.000000   \n",
       "25%           9.000000  6.226587e+02 -2.492367e+02  201611.000000   \n",
       "50%          25.000000  2.032342e+03  5.770376e+01  201702.000000   \n",
       "75%          44.000000  7.039263e+03  8.177714e+02  201705.000000   \n",
       "max        5113.000000  7.528430e+06  2.829114e+06  201708.000000   \n",
       "\n",
       "       Gross_Weight     Net_Weight     PostalCode  \n",
       "count  2.770100e+05  277010.000000  277010.000000  \n",
       "mean   2.417496e+03    1757.576298  459275.648803  \n",
       "std    3.005400e+04    9039.474429  169538.810677  \n",
       "min    0.000000e+00       0.000000  110002.000000  \n",
       "25%    1.090000e+00       1.000000  390021.000000  \n",
       "50%    5.000000e+02     405.000000  442001.000000  \n",
       "75%    7.080000e+02     535.000000  560100.000000  \n",
       "max    2.155500e+06  300000.000000  844101.000000  "
      ]
     },
     "execution_count": 31,
     "metadata": {},
     "output_type": "execute_result"
    }
   ],
   "source": [
    "df_final.describe()"
   ]
  },
  {
   "cell_type": "code",
   "execution_count": 33,
   "metadata": {},
   "outputs": [],
   "source": [
    "df_final.to_csv(\"Sales_Summary.csv\", index=False)"
   ]
  },
  {
   "cell_type": "code",
   "execution_count": null,
   "metadata": {},
   "outputs": [],
   "source": []
  },
  {
   "cell_type": "code",
   "execution_count": null,
   "metadata": {},
   "outputs": [],
   "source": []
  }
 ],
 "metadata": {
  "kernelspec": {
   "display_name": "Python 3",
   "language": "python",
   "name": "python3"
  },
  "language_info": {
   "codemirror_mode": {
    "name": "ipython",
    "version": 3
   },
   "file_extension": ".py",
   "mimetype": "text/x-python",
   "name": "python",
   "nbconvert_exporter": "python",
   "pygments_lexer": "ipython3",
   "version": "3.8.5"
  }
 },
 "nbformat": 4,
 "nbformat_minor": 4
}
